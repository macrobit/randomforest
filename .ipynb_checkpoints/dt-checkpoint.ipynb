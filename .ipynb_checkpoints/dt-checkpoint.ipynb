{
 "cells": [
  {
   "cell_type": "code",
   "execution_count": null,
   "metadata": {},
   "outputs": [],
   "source": [
    "def gini_index(groups, classes):\n",
    "    # count all samples at a splitting\n",
    "    n = sum([len(group) for group in groups])\n",
    "    print(\"n: \", n)\n",
    "    # get weighted gini index for each group\n",
    "    gini = 0\n",
    "    for g in groups:\n",
    "        print(\"g: \", g)\n",
    "        size = len(g)\n",
    "        print(\"size: \", size)\n",
    "        # avoid divided by 0\n",
    "        if size == 0:\n",
    "            continue\n",
    "        score = 0\n",
    "        # score the group based on the score for each class\n",
    "        for c in classes:\n",
    "            print(\"c: \", c)\n",
    "            p = [row[-1] for row in g].count(c) / float(size)\n",
    "            print(\"p: \", p)\n",
    "            score += p*p\n",
    "            print(\"score: \", score)\n",
    "        # weighted group score\n",
    "        gini += (1 - score) * size / n\n",
    "    return gini\n",
    "# test Gini values\n",
    "print(gini_index([[[1, 1], [1, 0]], [[1, 1], [1, 0]]], [0, 1]))\n",
    "print(gini_index([[[1, 0], [1, 0]], [[1, 1], [1, 1]]], [0, 1]))"
   ]
  },
  {
   "cell_type": "code",
   "execution_count": null,
   "metadata": {},
   "outputs": [],
   "source": [
    "# Split a dataset based on an attribute and an attribute value\n",
    "def test_split(index, value, dataset):\n",
    "    left, right = list(), list()\n",
    "    for row in dataset:\n",
    "        if row[index] < value:\n",
    "            left.append(row)\n",
    "        else:\n",
    "            right.append(row)\n",
    "    return left, right"
   ]
  }
 ],
 "metadata": {
  "kernelspec": {
   "display_name": "Python 2",
   "language": "python",
   "name": "python2"
  },
  "language_info": {
   "codemirror_mode": {
    "name": "ipython",
    "version": 2
   },
   "file_extension": ".py",
   "mimetype": "text/x-python",
   "name": "python",
   "nbconvert_exporter": "python",
   "pygments_lexer": "ipython2",
   "version": "2.7.13"
  }
 },
 "nbformat": 4,
 "nbformat_minor": 2
}
